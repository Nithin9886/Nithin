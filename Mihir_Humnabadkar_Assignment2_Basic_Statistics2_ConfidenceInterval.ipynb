{
 "cells": [
  {
   "cell_type": "code",
   "execution_count": null,
   "id": "8a92ce4f",
   "metadata": {},
   "outputs": [],
   "source": [
    "# Scenario:\n",
    "# A manufacturer of print-heads for personal computers is interested in estimating the \n",
    "# mean durability of their print-heads in terms of the number of characters printed before failure. \n",
    "# To assess this, the manufacturer conducts a study on a small sample of print-heads due to the \n",
    "# destructive nature of the testing process."
   ]
  },
  {
   "cell_type": "code",
   "execution_count": null,
   "id": "e01a3175",
   "metadata": {},
   "outputs": [],
   "source": [
    "# Data :\n",
    "# A total of 15 print-heads were randomly selected and tested until failure. \n",
    "# The durability of each print-head (in millions of characters) was recorded as follows:\n",
    "# 1.13, 1.55, 1.43, 0.92, 1.25, 1.36, 1.32, 0.85, 1.07, 1.48, 1.20, 1.33, 1.18, 1.22, 1.29"
   ]
  },
  {
   "cell_type": "code",
   "execution_count": 2,
   "id": "0a515548",
   "metadata": {},
   "outputs": [
    {
     "name": "stdout",
     "output_type": "stream",
     "text": [
      "Confidence interval for sample standard deviation: (1.110197788578895, 1.3671355447544382)\n"
     ]
    }
   ],
   "source": [
    "# a. Build 99% Confidence Interval Using Sample Standard Deviation\n",
    "\n",
    "import pandas as pd\n",
    "import numpy as np\n",
    "import scipy.stats as stats\n",
    "\n",
    "data = [1.13, 1.55, 1.43, 0.92, 1.25, 1.36, 1.32, 0.85, 1.07, 1.48, 1.20, 1.33, 1.18, 1.22, 1.29]\n",
    "sample_mean = np.mean(data)\n",
    "sample_std = np.std(data,ddof=1)\n",
    "n = len(data)\n",
    "\n",
    "# Calculate 99 percent CI\n",
    "\n",
    "confidence_level = 0.99\n",
    "alpha = 1 - confidence_level\n",
    "z_critical = stats.norm.ppf(1 - alpha/2)\n",
    "margin_of_error = z_critical * (sample_std / np.sqrt(n))\n",
    "confidence_interval = (sample_mean - margin_of_error , sample_mean + margin_of_error)\n",
    "\n",
    "print(\"Confidence interval for sample standard deviation:\",confidence_interval)"
   ]
  },
  {
   "cell_type": "code",
   "execution_count": 4,
   "id": "860125a4",
   "metadata": {},
   "outputs": [
    {
     "name": "stderr",
     "output_type": "stream",
     "text": [
      "C:\\Users\\mihir\\AppData\\Local\\Temp\\ipykernel_5948\\3061450412.py:9: DeprecationWarning: Use of keyword argument 'alpha' for method 'interval' is deprecated and wil be removed in SciPy 1.11.0. Use first positional argument or keyword argument 'confidence' instead.\n",
      "  stats.t.interval(alpha = 0.99, loc=np.mean(data) , df=len(data) - 1 , scale=stats.sem(data))\n"
     ]
    },
    {
     "data": {
      "text/plain": [
       "(1.090197338451367, 1.3871359948819662)"
      ]
     },
     "execution_count": 4,
     "metadata": {},
     "output_type": "execute_result"
    }
   ],
   "source": [
    "# b. Build 99% Confidence Interval Using Known Population Standard Deviation\n",
    "\n",
    "import pandas as pd\n",
    "import numpy as np\n",
    "import scipy.stats as stats\n",
    "\n",
    "data = [1.13, 1.55, 1.43, 0.92, 1.25, 1.36, 1.32, 0.85, 1.07, 1.48, 1.20, 1.33, 1.18, 1.22, 1.29]\n",
    "\n",
    "stats.t.interval(alpha = 0.99, loc=np.mean(data) , df=len(data) - 1 , scale=stats.sem(data))"
   ]
  }
 ],
 "metadata": {
  "kernelspec": {
   "display_name": "Python 3 (ipykernel)",
   "language": "python",
   "name": "python3"
  },
  "language_info": {
   "codemirror_mode": {
    "name": "ipython",
    "version": 3
   },
   "file_extension": ".py",
   "mimetype": "text/x-python",
   "name": "python",
   "nbconvert_exporter": "python",
   "pygments_lexer": "ipython3",
   "version": "3.10.9"
  }
 },
 "nbformat": 4,
 "nbformat_minor": 5
}
